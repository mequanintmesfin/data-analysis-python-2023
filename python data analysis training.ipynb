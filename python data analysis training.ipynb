{
 "cells": [
  {
   "cell_type": "markdown",
   "id": "c955859e",
   "metadata": {},
   "source": [
    "# python syntax"
   ]
  },
  {
   "cell_type": "code",
   "execution_count": null,
   "id": "09821664",
   "metadata": {},
   "outputs": [],
   "source": [
    "# print \n",
    "print(\" your name\")\n",
    "print()"
   ]
  },
  {
   "cell_type": "code",
   "execution_count": null,
   "id": "2b587473",
   "metadata": {},
   "outputs": [],
   "source": [
    "# variable \n",
    "a=24\n",
    "b=12\n",
    "c=29\n",
    "z= a+b+c\n",
    "print(z)"
   ]
  },
  {
   "cell_type": "code",
   "execution_count": null,
   "id": "72c76322",
   "metadata": {},
   "outputs": [],
   "source": [
    "# multiple statement\n",
    "sum=1+\\\n",
    "2+\\\n",
    "6+\\\n",
    "8\n",
    "print(sum)"
   ]
  },
  {
   "cell_type": "code",
   "execution_count": null,
   "id": "ae5300c1",
   "metadata": {},
   "outputs": [],
   "source": [
    "# quotes\n",
    "national =\"\"\" Ethiopia\"\"\"\n",
    "region ='Amhara'\n",
    "woreda =\" lay gayint\"\n",
    "print(region)\n",
    "print(woreda)\n",
    "print(national)"
   ]
  },
  {
   "cell_type": "code",
   "execution_count": null,
   "id": "605da324",
   "metadata": {},
   "outputs": [],
   "source": [
    "# input\n",
    "a= input(\"this period is:\")"
   ]
  },
  {
   "cell_type": "code",
   "execution_count": null,
   "id": "83b64aa3",
   "metadata": {},
   "outputs": [],
   "source": [
    "#multiple statement\n",
    "h=4; w=5; g=6; print(h,w,g)\n"
   ]
  },
  {
   "cell_type": "code",
   "execution_count": null,
   "id": "8a7cd90f",
   "metadata": {},
   "outputs": [],
   "source": [
    "#indentation\n",
    "x=(1,2,3,4,5,6,7)\n",
    "for i in x:\n",
    "       print(i)  "
   ]
  },
  {
   "cell_type": "raw",
   "id": "33efe64d",
   "metadata": {},
   "source": [
    "# variable name it start with a latter or the underscor character\n",
    "#  it can not start with number\n",
    "# it can only  contian A-Z, 0-9 and _\n",
    "#  there are  case sensitive*( Sex, weight SEx AGe Sex Age)\n",
    "\n"
   ]
  },
  {
   "cell_type": "code",
   "execution_count": null,
   "id": "bffdeb89",
   "metadata": {},
   "outputs": [],
   "source": [
    "#  many values for multiple variable\n",
    "a, b, c=4, \"mequanint\",7\n",
    "print(b)\n",
    "print(a)\n",
    "print(c)\n",
    "national, region, woreda = \"\"\" Ethiopia\"\"\",'Amhara', \"lay gayint\"\n",
    "print(region)\n",
    "print(woreda)\n",
    "print(national)\n"
   ]
  },
  {
   "cell_type": "code",
   "execution_count": null,
   "id": "216b5661",
   "metadata": {},
   "outputs": [],
   "source": [
    "#  one values for multiple variable\n",
    "x=y=z=\"python training\"\n",
    "print(x)\n",
    "print(y)\n",
    "print(z)"
   ]
  },
  {
   "cell_type": "code",
   "execution_count": null,
   "id": "f9b08e4f",
   "metadata": {},
   "outputs": [],
   "source": [
    "#  output variable \n",
    "b=\" first traning  of python programing\"\n",
    "print(\"mequanint  titorial\"+b )"
   ]
  },
  {
   "cell_type": "code",
   "execution_count": null,
   "id": "dbc574a2",
   "metadata": {},
   "outputs": [],
   "source": [
    "# global and local variable\n",
    "glob=\"mequanint  titorial\"\n",
    "def myfunction():\n",
    "    glob= loc\n",
    "    loc = \" this is the first training \"\n",
    "    print(glob)\n",
    "    myfunction ()\n",
    "    print(loc)\n",
    "    "
   ]
  },
  {
   "cell_type": "code",
   "execution_count": null,
   "id": "120edd07",
   "metadata": {},
   "outputs": [],
   "source": [
    "# set a data type\n",
    "x=float(43)\n",
    "print(x)\n",
    "y=int(40.08)\n",
    "print(y)"
   ]
  },
  {
   "cell_type": "code",
   "execution_count": 2,
   "id": "14089b8d",
   "metadata": {},
   "outputs": [
    {
     "name": "stdout",
     "output_type": "stream",
     "text": [
      "mequanint mesfin\n",
      "MYBROTHER\n",
      "16\n",
      " Mesfin\n"
     ]
    }
   ],
   "source": [
    "# modify\n",
    "c=(\"MEquanint Mesfin\")\n",
    "print(c.lower())\n",
    "b=(\"Mybrother\")\n",
    "print(b.upper())\n",
    "# slicing\n",
    "print(len(c))\n",
    "print(c[9:16])"
   ]
  },
  {
   "cell_type": "markdown",
   "id": "337466b0",
   "metadata": {},
   "source": [
    "# A number may be an integer, a real number or a complex number.\n",
    "The usual operations are\n",
    "▶ + and - addition and substraction\n",
    "▶ * and / multiplication and division\n",
    "▶ ** power"
   ]
  },
  {
   "cell_type": "code",
   "execution_count": null,
   "id": "420ea58c",
   "metadata": {},
   "outputs": [],
   "source": [
    "x= 4\n",
    "y=7\n",
    "z= x+y\n",
    "print (z)"
   ]
  },
  {
   "cell_type": "code",
   "execution_count": null,
   "id": "b1109e04",
   "metadata": {},
   "outputs": [],
   "source": [
    "2 ** (2+2)"
   ]
  },
  {
   "cell_type": "code",
   "execution_count": null,
   "id": "3453037d",
   "metadata": {},
   "outputs": [],
   "source": [
    "1.0j ** 2"
   ]
  },
  {
   "cell_type": "raw",
   "id": "766c6f63",
   "metadata": {},
   "source": [
    "# In order to use standard mathematical functions in Python, you\n",
    "# must import some module. We will use numpy.You can import numpy and then Importing Numpy\n",
    "\n",
    "# use dot - notation after the name numpy\n"
   ]
  },
  {
   "cell_type": "code",
   "execution_count": null,
   "id": "07001284",
   "metadata": {},
   "outputs": [],
   "source": [
    "import numpy\n",
    "print ( numpy . exp(1j* numpy .pi))"
   ]
  },
  {
   "cell_type": "code",
   "execution_count": null,
   "id": "47d763b2",
   "metadata": {},
   "outputs": [],
   "source": [
    "# You can import numpy and rename the module\n",
    "import numpy as np\n",
    "print (np. exp (1j*np.pi))\n"
   ]
  },
  {
   "cell_type": "code",
   "execution_count": null,
   "id": "66aad680",
   "metadata": {},
   "outputs": [],
   "source": [
    "# Or only import what you need\n",
    "from numpy import exp , pi\n",
    "print ( exp(1j*pi))"
   ]
  },
  {
   "cell_type": "markdown",
   "id": "3d01f762",
   "metadata": {},
   "source": [
    "# Variables\n",
    "Variables\n",
    "A variable is a reference to an object. An object may have several\n",
    "references. One uses the assignment operator = to assign a value\n",
    "to a variable."
   ]
  },
  {
   "cell_type": "code",
   "execution_count": 3,
   "id": "3926750d",
   "metadata": {},
   "outputs": [
    {
     "name": "stdout",
     "output_type": "stream",
     "text": [
      "3.14\n",
      "<class 'complex'>\n"
     ]
    }
   ],
   "source": [
    "i = 42 # integers\n",
    "a = 3.14 # floats , the dot makes the difference\n",
    "c = 5 + 1j # complex numbers\n",
    "sum = a + c # the sum will be a complex\n",
    "print ( a ) # 8.14 + 1j\n",
    "print ( type ( sum) ) # <class ’complex ’>"
   ]
  },
  {
   "cell_type": "markdown",
   "id": "3b5c6121",
   "metadata": {},
   "source": [
    "# We first make the central visualization tool in Python available:"
   ]
  },
  {
   "cell_type": "code",
   "execution_count": 3,
   "id": "23c855f4",
   "metadata": {},
   "outputs": [
    {
     "ename": "SyntaxError",
     "evalue": "invalid character '’' (U+2019) (646700340.py, line 7)",
     "output_type": "error",
     "traceback": [
      "\u001b[1;36m  Cell \u001b[1;32mIn[3], line 7\u001b[1;36m\u001b[0m\n\u001b[1;33m    plot ( x_list ,y_list ,’o’)\u001b[0m\n\u001b[1;37m                           ^\u001b[0m\n\u001b[1;31mSyntaxError\u001b[0m\u001b[1;31m:\u001b[0m invalid character '’' (U+2019)\n"
     ]
    }
   ],
   "source": [
    "import numpy as np\n",
    "import pandas as pd\n",
    "import matplotlib.pyplot as plt\n",
    "x_list = list ( range (100)) \n",
    "y_list =[ sqrt (x) for x in x_list ]\n",
    "plt ( x_list ,y_list )\n",
    "plot ( x_list ,y_list ,’o’)\n",
    "plt()"
   ]
  },
  {
   "cell_type": "code",
   "execution_count": 4,
   "id": "b7fd90d2",
   "metadata": {},
   "outputs": [
    {
     "data": {
      "text/plain": [
       "[<matplotlib.lines.Line2D at 0x1beb2bd15d0>]"
      ]
     },
     "execution_count": 4,
     "metadata": {},
     "output_type": "execute_result"
    },
    {
     "data": {
      "image/png": "[encoded data removed]",
      "text/plain": [
       "<Figure size 640x480 with 1 Axes>"
      ]
     },
     "metadata": {},
     "output_type": "display_data"
    }
   ],
   "source": [
    "import matplotlib.pyplot as plt\n",
    "x= (4,9,25,36,49,64)\n",
    "y=(2,3,4.5,6,7,8)\n",
    "plt.plot(x,y)"
   ]
  },
  {
   "cell_type": "code",
   "execution_count": 13,
   "id": "c08412ed",
   "metadata": {},
   "outputs": [
    {
     "ename": "NameError",
     "evalue": "name 'array' is not defined",
     "output_type": "error",
     "traceback": [
      "\u001b[1;31m---------------------------------------------------------------------------\u001b[0m",
      "\u001b[1;31mNameError\u001b[0m                                 Traceback (most recent call last)",
      "Cell \u001b[1;32mIn[13], line 3\u001b[0m\n\u001b[0;32m      1\u001b[0m \u001b[38;5;28;01mimport\u001b[39;00m \u001b[38;5;21;01mnumpy\u001b[39;00m \u001b[38;5;28;01mas\u001b[39;00m \u001b[38;5;21;01mnp\u001b[39;00m\n\u001b[0;32m      2\u001b[0m \u001b[38;5;28;01mfrom\u001b[39;00m \u001b[38;5;21;01mscipy\u001b[39;00m \u001b[38;5;241m.\u001b[39m linalg \u001b[38;5;28;01mimport\u001b[39;00m \u001b[38;5;21;01msolve\u001b[39;00m\n\u001b[1;32m----> 3\u001b[0m M \u001b[38;5;241m=\u001b[39m array([[\u001b[38;5;241m1.\u001b[39m, \u001b[38;5;241m2.\u001b[39m], [\u001b[38;5;241m3.\u001b[39m, \u001b[38;5;241m4.\u001b[39m]])\n\u001b[0;32m      4\u001b[0m V \u001b[38;5;241m=\u001b[39m array ([\u001b[38;5;241m2.\u001b[39m, \u001b[38;5;241m1.\u001b[39m])\n\u001b[0;32m      5\u001b[0m x \u001b[38;5;241m=\u001b[39m solve (M, V)\n",
      "\u001b[1;31mNameError\u001b[0m: name 'array' is not defined"
     ]
    }
   ],
   "source": [
    "import numpy as np\n",
    "from scipy . linalg import solve\n",
    "M = array([[1., 2.], [3., 4.]])\n",
    "V = array ([2., 1.])\n",
    "x = solve (M, V)\n",
    "print (x)"
   ]
  },
  {
   "cell_type": "code",
   "execution_count": 7,
   "id": "67a27115",
   "metadata": {},
   "outputs": [
    {
     "ename": "NameError",
     "evalue": "name 'exp' is not defined",
     "output_type": "error",
     "traceback": [
      "\u001b[1;31m---------------------------------------------------------------------------\u001b[0m",
      "\u001b[1;31mNameError\u001b[0m                                 Traceback (most recent call last)",
      "Cell \u001b[1;32mIn[7], line 2\u001b[0m\n\u001b[0;32m      1\u001b[0m \u001b[38;5;28;01mimport\u001b[39;00m \u001b[38;5;21;01mnumpy\u001b[39;00m \u001b[38;5;28;01mas\u001b[39;00m \u001b[38;5;21;01mnp\u001b[39;00m\n\u001b[1;32m----> 2\u001b[0m \u001b[38;5;28mprint\u001b[39m ( exp(\u001b[38;5;241m1\u001b[39mj\u001b[38;5;241m*\u001b[39mpi))\n",
      "\u001b[1;31mNameError\u001b[0m: name 'exp' is not defined"
     ]
    }
   ],
   "source": [
    "import numpy as np\n",
    "print ( exp(1j*pi)) \n"
   ]
  },
  {
   "cell_type": "raw",
   "id": "7641c421",
   "metadata": {},
   "source": [
    "# Computing eiπ and 2100:\n",
    "print (2 ** 100)"
   ]
  },
  {
   "cell_type": "code",
   "execution_count": null,
   "id": "60f1bb6b",
   "metadata": {},
   "outputs": [],
   "source": [
    "\n",
    "print (2 ** 100)"
   ]
  },
  {
   "cell_type": "markdown",
   "id": "d5294049",
   "metadata": {},
   "source": [
    "# Pandas Dataframe versus Numpy Array"
   ]
  },
  {
   "cell_type": "code",
   "execution_count": null,
   "id": "e063ca56",
   "metadata": {},
   "outputs": [],
   "source": [
    "import pandas as pd\n",
    "import seaborn as sns\n",
    "import matplotlib.pyplot as plt\n",
    "import numpy as np"
   ]
  },
  {
   "cell_type": "code",
   "execution_count": null,
   "id": "d228380f",
   "metadata": {
    "scrolled": true
   },
   "outputs": [],
   "source": [
    "import numpy as np\n",
    "import pandas as pd\n",
    "A= np.array ([[1.,2.,3.],[4.,5.,6.]])\n",
    "print (A)\n",
    "AF = pd. DataFrame (A)\n",
    "print (AF)\n"
   ]
  },
  {
   "cell_type": "code",
   "execution_count": null,
   "id": "40bbe0ae",
   "metadata": {},
   "outputs": [],
   "source": [
    "df=pd.read_csv('C:/Users/ok/Desktop/traning/pregnancy2016.csv')\n",
    "df"
   ]
  },
  {
   "cell_type": "code",
   "execution_count": null,
   "id": "bb118397",
   "metadata": {},
   "outputs": [],
   "source": [
    "import matplotlib.pyplot as plt\n",
    "zone_name=df['zone_name'].unique()\n",
    "plt.bar(zone_name,numpy.results['Sj'])"
   ]
  },
  {
   "cell_type": "code",
   "execution_count": null,
   "id": "cfefa759",
   "metadata": {},
   "outputs": [],
   "source": [
    "import pandas as pd\n",
    "data=pd.read_csv('C:/Users/ok/Desktop/traning/final_data69zone.csv')\n",
    "data"
   ]
  },
  {
   "cell_type": "code",
   "execution_count": null,
   "id": "cce1c118",
   "metadata": {},
   "outputs": [],
   "source": [
    "data.alcohol_drinking_zone1.value_counts()"
   ]
  },
  {
   "cell_type": "markdown",
   "id": "18cdbbbb",
   "metadata": {},
   "source": [
    "# data cleaning in pandas"
   ]
  },
  {
   "cell_type": "code",
   "execution_count": null,
   "id": "296fa36c",
   "metadata": {},
   "outputs": [],
   "source": []
  },
  {
   "cell_type": "code",
   "execution_count": null,
   "id": "b740ab8f",
   "metadata": {},
   "outputs": [],
   "source": [
    " data.drop(columns=\"source_of_drinking_water_zone1\")\n",
    "data"
   ]
  },
  {
   "cell_type": "markdown",
   "id": "474dc207",
   "metadata": {},
   "source": [
    "# handling problem"
   ]
  },
  {
   "cell_type": "code",
   "execution_count": null,
   "id": "f5b88f5b",
   "metadata": {},
   "outputs": [],
   "source": [
    "missing_value=[\"Na/na\",\"na\", np.nan]\n",
    "data=pd.read_csv('C:/Users/ok/Desktop/traning/final_data69zone.csv', na_values= missing_value)"
   ]
  },
  {
   "cell_type": "code",
   "execution_count": null,
   "id": "ba7240b9",
   "metadata": {},
   "outputs": [],
   "source": [
    "from scipy.linalg import *\n",
    "from numpy import *\n",
    "from matplotlib.pyplot import *\n",
    "\n",
    "#Task 1\n",
    "x = array([1,2,3,4,5,6,7,8,9,10,11,12.0])\n",
    "y=array([69,71,72,70,69,67,65,65,66,67,66,67])\n",
    "\n",
    "def f(x,y):\n",
    "    z=vander(x,increasing=True)\n",
    "    c=solve(z,y)\n",
    "    return c\n",
    "c=f(x,y)\n",
    "print(f\"the value of the coefficients is equal to {c}\")\n"
   ]
  },
  {
   "cell_type": "code",
   "execution_count": null,
   "id": "ae9c4d17",
   "metadata": {},
   "outputs": [],
   "source": [
    "#task 2\n",
    "x_plot=linspace(x[0],x[-1],100)\n",
    "\n",
    "def polyvalue(c,x_plot):\n",
    "    l=len(c)\n",
    "    p_n=0\n",
    "    for i in range(l):\n",
    "       p_n +=(c[i]*(x_plot**i))\n",
    "    return p_n\n",
    "p_n=polyvalue(c,x_plot)\n",
    "\n",
    "print(f\" the value of the polynomial function at vale x= {x_plot} are {p_n}\")\n"
   ]
  },
  {
   "cell_type": "code",
   "execution_count": null,
   "id": "34a5f613",
   "metadata": {},
   "outputs": [],
   "source": [
    "data.describe()"
   ]
  },
  {
   "cell_type": "code",
   "execution_count": null,
   "id": "6229fa25",
   "metadata": {},
   "outputs": [],
   "source": []
  },
  {
   "cell_type": "code",
   "execution_count": null,
   "id": "716d3ac3",
   "metadata": {},
   "outputs": [],
   "source": [
    "BMI = df['weight']/((df['height']/100)**2) "
   ]
  },
  {
   "cell_type": "code",
   "execution_count": null,
   "id": "845c9330",
   "metadata": {},
   "outputs": [],
   "source": [
    "BMI = BMI > 25"
   ]
  },
  {
   "cell_type": "code",
   "execution_count": null,
   "id": "32c6a626",
   "metadata": {},
   "outputs": [],
   "source": [
    "# Add 'overweight' column\n",
    "df['overweight'] = BMI"
   ]
  },
  {
   "cell_type": "code",
   "execution_count": null,
   "id": "b573465a",
   "metadata": {},
   "outputs": [],
   "source": [
    "df.overweight = df.overweight.astype(int)"
   ]
  },
  {
   "cell_type": "code",
   "execution_count": null,
   "id": "2300f1fb",
   "metadata": {},
   "outputs": [],
   "source": []
  }
 ],
 "metadata": {
  "kernelspec": {
   "display_name": "Python 3 (ipykernel)",
   "language": "python",
   "name": "python3"
  },
  "language_info": {
   "codemirror_mode": {
    "name": "ipython",
    "version": 3
   },
   "file_extension": ".py",
   "mimetype": "text/x-python",
   "name": "python",
   "nbconvert_exporter": "python",
   "pygments_lexer": "ipython3",
   "version": "3.11.3"
  },
  "widgets": {
   "application/vnd.jupyter.widget-state+json": {
    "state": {},
    "version_major": 2,
    "version_minor": 0
   }
  }
 },
 "nbformat": 4,
 "nbformat_minor": 5
}
